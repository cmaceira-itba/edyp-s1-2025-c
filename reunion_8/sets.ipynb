{
  "cells": [
    {
      "cell_type": "markdown",
      "metadata": {},
      "source": [
        "# Conjuntos (Sets) en Python\n",
        "---\n",
        "\n",
        "## 1. ¿Qué son los Conjuntos?\n",
        "\n",
        "Los conjuntos son **colecciones no ordenadas de elementos únicos** en Python.\n",
        "\n",
        "### Propiedades Clave:\n",
        "- **Solo elementos únicos** - no se permiten duplicados\n",
        "- **No ordenados** - sin indexación como las listas\n",
        "- **Mutables** - se pueden agregar/eliminar elementos\n",
        "- **Los elementos deben ser hashables** - números, cadenas, tuplas (no listas o diccionarios)\n",
        "\n",
        "### ¿Por qué usar conjuntos?\n",
        "- Eliminar duplicados de los datos\n",
        "- Pruebas rápidas de pertenencia\n",
        "- Operaciones matemáticas de conjuntos\n",
        "- Análisis y filtrado de datos"
      ]
    },
    {
      "cell_type": "markdown",
      "metadata": {},
      "source": [
        "---\n",
        "\n",
        "## 2. Creando Conjuntos"
      ]
    },
    {
      "cell_type": "code",
      "execution_count": 37,
      "metadata": {},
      "outputs": [
        {
          "name": "stdout",
          "output_type": "stream",
          "text": [
            "Frutas: {'naranja', 'banana', 'manzana'}\n",
            "Desde cadena: {'o', 'h', 'a', 'l'}\n",
            "Desde lista (duplicados eliminados): {1, 2, 3}\n",
            "Cuadrados: {1, 4, 9, 16, 25}\n"
          ]
        }
      ],
      "source": [
        "# Método 1: Llaves con elementos\n",
        "frutas = {\"manzana\", \"banana\", \"naranja\"}\n",
        "numeros = {1, 2, 3, 4, 5}\n",
        "\n",
        "# Método 2: Constructor set()\n",
        "conjunto_vacio = set()  # Importante: {} crea un diccionario!\n",
        "desde_cadena = set(\"hola\")  # {'h', 'o', 'l', 'a'}\n",
        "desde_lista = set([1, 2, 2, 3, 3])  # {1, 2, 3} - duplicados eliminados\n",
        "\n",
        "# Método 3: Comprensión de conjuntos\n",
        "cuadrados = {x**2 for x in range(1, 6)}  # {1, 4, 9, 16, 25}\n",
        "\n",
        "print(f\"Frutas: {frutas}\")\n",
        "print(f\"Desde cadena: {desde_cadena}\")\n",
        "print(f\"Desde lista (duplicados eliminados): {desde_lista}\")\n",
        "print(f\"Cuadrados: {cuadrados}\")"
      ]
    },
    {
      "cell_type": "markdown",
      "metadata": {},
      "source": [
        "### Ejercicio Rápido:\n",
        "Crea un conjunto que contenga los primeros 5 números pares usando comprensión de conjuntos."
      ]
    },
    {
      "cell_type": "code",
      "execution_count": 38,
      "metadata": {},
      "outputs": [],
      "source": [
        "# Solución:"
      ]
    },
    {
      "cell_type": "markdown",
      "metadata": {},
      "source": [
        "---\n",
        "\n",
        "## 3. Operaciones Básicas de Conjuntos\n",
        "\n",
        "### Agregando Elementos"
      ]
    },
    {
      "cell_type": "code",
      "execution_count": 39,
      "metadata": {},
      "outputs": [
        {
          "name": "stdout",
          "output_type": "stream",
          "text": [
            "Después de agregar: {'azul', 'verde', 'rojo'}\n",
            "Después de actualizar: {'morado', 'rojo', 'azul', 'amarillo', 'verde'}\n"
          ]
        }
      ],
      "source": [
        "colores = {\"rojo\", \"azul\"}\n",
        "\n",
        "# Agregar un solo elemento\n",
        "colores.add(\"verde\")\n",
        "print(f\"Después de agregar: {colores}\")\n",
        "\n",
        "# Agregar múltiples elementos\n",
        "colores.update([\"amarillo\", \"morado\", \"rojo\"])  # rojo ya existe\n",
        "print(f\"Después de actualizar: {colores}\")"
      ]
    },
    {
      "cell_type": "markdown",
      "metadata": {},
      "source": [
        "### Eliminando Elementos"
      ]
    },
    {
      "cell_type": "code",
      "execution_count": 40,
      "metadata": {},
      "outputs": [
        {
          "name": "stdout",
          "output_type": "stream",
          "text": [
            "Eliminado: perro, Restantes: {'gato'}\n"
          ]
        }
      ],
      "source": [
        "animales = {\"gato\", \"perro\", \"pájaro\", \"pez\"}\n",
        "\n",
        "# remove() - genera error si el elemento no existe\n",
        "animales.remove(\"pájaro\")\n",
        "# animales.remove(\"elefante\")  # Esto generaría KeyError\n",
        "\n",
        "# discard() - silencioso si el elemento no existe\n",
        "animales.discard(\"pez\")\n",
        "animales.discard(\"elefante\")  # Sin error\n",
        "\n",
        "# pop() - elimina elemento arbitrario\n",
        "eliminado = animales.pop()\n",
        "print(f\"Eliminado: {eliminado}, Restantes: {animales}\")\n",
        "\n",
        "# clear() - elimina todos los elementos\n",
        "# animales.clear()"
      ]
    },
    {
      "cell_type": "markdown",
      "metadata": {},
      "source": [
        "### Pruebas de Pertenencia"
      ]
    },
    {
      "cell_type": "code",
      "execution_count": 41,
      "metadata": {},
      "outputs": [
        {
          "name": "stdout",
          "output_type": "stream",
          "text": [
            "True\n",
            "False\n",
            "5\n"
          ]
        }
      ],
      "source": [
        "numeros = {1, 2, 3, 4, 5}\n",
        "\n",
        "print(3 in numeros)        # True\n",
        "print(10 in numeros)       # False\n",
        "print(len(numeros))        # 5"
      ]
    },
    {
      "cell_type": "markdown",
      "metadata": {},
      "source": [
        "### Ejercicio de Práctica:\n",
        "Crea un conjunto con tus comidas favoritas, agrega dos más, elimina una, y verifica si \"pizza\" está en tu conjunto."
      ]
    },
    {
      "cell_type": "code",
      "execution_count": 42,
      "metadata": {},
      "outputs": [],
      "source": [
        "# Solución"
      ]
    },
    {
      "cell_type": "markdown",
      "metadata": {},
      "source": [
        "---\n",
        "\n",
        "## 4. Operaciones Matemáticas de Conjuntos"
      ]
    },
    {
      "cell_type": "code",
      "execution_count": 43,
      "metadata": {},
      "outputs": [
        {
          "name": "stdout",
          "output_type": "stream",
          "text": [
            "Estudiantes de matemáticas: {'Carlos', 'Diana', 'Bob', 'Alicia'}\n",
            "Estudiantes de ciencias: {'Frank', 'Eva', 'Diana', 'Bob'}\n"
          ]
        }
      ],
      "source": [
        "# Datos de ejemplo\n",
        "estudiantes_matematicas = {\"Alicia\", \"Bob\", \"Carlos\", \"Diana\"}\n",
        "estudiantes_ciencias = {\"Bob\", \"Diana\", \"Eva\", \"Frank\"}\n",
        "\n",
        "print(f\"Estudiantes de matemáticas: {estudiantes_matematicas}\")\n",
        "print(f\"Estudiantes de ciencias: {estudiantes_ciencias}\")"
      ]
    },
    {
      "cell_type": "markdown",
      "metadata": {},
      "source": [
        "### Unión (|) - Todos los estudiantes"
      ]
    },
    {
      "cell_type": "code",
      "execution_count": 44,
      "metadata": {},
      "outputs": [
        {
          "name": "stdout",
          "output_type": "stream",
          "text": [
            "Todos los estudiantes: {'Frank', 'Eva', 'Alicia', 'Carlos', 'Diana', 'Bob'}\n"
          ]
        }
      ],
      "source": [
        "todos_estudiantes = estudiantes_matematicas | estudiantes_ciencias\n",
        "# Alternativa: estudiantes_matematicas.union(estudiantes_ciencias)\n",
        "print(f\"Todos los estudiantes: {todos_estudiantes}\")"
      ]
    },
    {
      "cell_type": "markdown",
      "metadata": {},
      "source": [
        "### Intersección (&) - Estudiantes en ambas clases"
      ]
    },
    {
      "cell_type": "code",
      "execution_count": 45,
      "metadata": {},
      "outputs": [
        {
          "name": "stdout",
          "output_type": "stream",
          "text": [
            "Estudiantes en ambas: {'Diana', 'Bob'}\n"
          ]
        }
      ],
      "source": [
        "ambas_clases = estudiantes_matematicas & estudiantes_ciencias\n",
        "# Alternativa: estudiantes_matematicas.intersection(estudiantes_ciencias)\n",
        "print(f\"Estudiantes en ambas: {ambas_clases}\")"
      ]
    },
    {
      "cell_type": "markdown",
      "metadata": {},
      "source": [
        "### Diferencia (-) - Estudiantes solo en matemáticas"
      ]
    },
    {
      "cell_type": "code",
      "execution_count": 46,
      "metadata": {},
      "outputs": [
        {
          "name": "stdout",
          "output_type": "stream",
          "text": [
            "Solo en matemáticas: {'Carlos', 'Alicia'}\n"
          ]
        }
      ],
      "source": [
        "solo_matematicas = estudiantes_matematicas - estudiantes_ciencias\n",
        "# Alternativa: estudiantes_matematicas.difference(estudiantes_ciencias)\n",
        "print(f\"Solo en matemáticas: {solo_matematicas}\")"
      ]
    },
    {
      "cell_type": "markdown",
      "metadata": {},
      "source": [
        "### Diferencia Simétrica (^) - Estudiantes en exactamente una clase"
      ]
    },
    {
      "cell_type": "code",
      "execution_count": 47,
      "metadata": {},
      "outputs": [
        {
          "name": "stdout",
          "output_type": "stream",
          "text": [
            "En exactamente una clase: {'Frank', 'Alicia', 'Carlos', 'Eva'}\n"
          ]
        }
      ],
      "source": [
        "exactamente_una = estudiantes_matematicas ^ estudiantes_ciencias\n",
        "# Alternativa: estudiantes_matematicas.symmetric_difference(estudiantes_ciencias)\n",
        "print(f\"En exactamente una clase: {exactamente_una}\")"
      ]
    },
    {
      "cell_type": "markdown",
      "metadata": {},
      "source": [
        "### Relaciones de Conjuntos"
      ]
    },
    {
      "cell_type": "code",
      "execution_count": 48,
      "metadata": {},
      "outputs": [
        {
          "name": "stdout",
          "output_type": "stream",
          "text": [
            "¿Es {'Bob', 'Alicia'} subconjunto de estudiantes de matemáticas? True\n",
            "¿Son los estudiantes de matemáticas superconjunto de {'Bob', 'Alicia'}? True\n",
            "¿Son los conjuntos disjuntos? True\n"
          ]
        }
      ],
      "source": [
        "# Verificaciones de subconjunto y superconjunto\n",
        "conjunto_pequeño = {\"Alicia\", \"Bob\"}\n",
        "print(f\"¿Es {conjunto_pequeño} subconjunto de estudiantes de matemáticas? {conjunto_pequeño <= estudiantes_matematicas}\")\n",
        "print(f\"¿Son los estudiantes de matemáticas superconjunto de {conjunto_pequeño}? {estudiantes_matematicas >= conjunto_pequeño}\")\n",
        "\n",
        "# Conjuntos disjuntos (sin elementos comunes)\n",
        "conjunto1 = {1, 2, 3}\n",
        "conjunto2 = {4, 5, 6}\n",
        "print(f\"¿Son los conjuntos disjuntos? {conjunto1.isdisjoint(conjunto2)}\")"
      ]
    },
    {
      "cell_type": "markdown",
      "metadata": {},
      "source": [
        "---\n",
        "\n",
        "## 5. Aplicaciones Prácticas\n",
        "\n",
        "### Ejemplo 1: Eliminar Duplicados"
      ]
    },
    {
      "cell_type": "code",
      "execution_count": 49,
      "metadata": {},
      "outputs": [
        {
          "name": "stdout",
          "output_type": "stream",
          "text": [
            "Original: [1, 2, 2, 3, 3, 3, 4, 5, 5]\n",
            "Únicos: [1, 2, 3, 4, 5]\n"
          ]
        }
      ],
      "source": [
        "# Eliminar duplicados de una lista\n",
        "numeros_con_duplicados = [1, 2, 2, 3, 3, 3, 4, 5, 5]\n",
        "numeros_unicos = list(set(numeros_con_duplicados))\n",
        "print(f\"Original: {numeros_con_duplicados}\")\n",
        "print(f\"Únicos: {numeros_unicos}\")"
      ]
    },
    {
      "cell_type": "markdown",
      "metadata": {},
      "source": [
        "### Ejemplo 2: Encontrar Elementos Comunes"
      ]
    },
    {
      "cell_type": "code",
      "execution_count": 50,
      "metadata": {},
      "outputs": [
        {
          "name": "stdout",
          "output_type": "stream",
          "text": [
            "Alicia y Bob disfrutan ambos: {'cocinar', 'videojuegos'}\n"
          ]
        }
      ],
      "source": [
        "# Encontrar intereses comunes entre amigos\n",
        "hobbies_alicia = {\"leer\", \"natación\", \"cocinar\", \"videojuegos\"}\n",
        "hobbies_bob = {\"videojuegos\", \"cocinar\", \"senderismo\", \"fotografía\"}\n",
        "\n",
        "hobbies_comunes = hobbies_alicia & hobbies_bob\n",
        "print(f\"Alicia y Bob disfrutan ambos: {hobbies_comunes}\")"
      ]
    },
    {
      "cell_type": "markdown",
      "metadata": {},
      "source": [
        "### Ejemplo 3: Filtrado de Datos"
      ]
    },
    {
      "cell_type": "code",
      "execution_count": 51,
      "metadata": {},
      "outputs": [
        {
          "name": "stdout",
          "output_type": "stream",
          "text": [
            "Todas las calificaciones: {73, 78, 82, 85, 88, 90, 92, 95}\n",
            "Calificaciones aprobadas: {82, 85, 88, 90, 92, 95}\n",
            "Calificaciones reprobadas: {73, 78}\n"
          ]
        }
      ],
      "source": [
        "# Filtrar datos basados en criterios\n",
        "todas_calificaciones = {85, 92, 78, 95, 88, 73, 90, 82}\n",
        "calificaciones_aprobadas = {calif for calif in todas_calificaciones if calif >= 80}\n",
        "calificaciones_reprobadas = todas_calificaciones - calificaciones_aprobadas\n",
        "\n",
        "print(f\"Todas las calificaciones: {todas_calificaciones}\")\n",
        "print(f\"Calificaciones aprobadas: {calificaciones_aprobadas}\")\n",
        "print(f\"Calificaciones reprobadas: {calificaciones_reprobadas}\")"
      ]
    },
    {
      "cell_type": "markdown",
      "metadata": {},
      "source": [
        "### Ejemplo 4: Prueba Rápida de Pertenencia"
      ]
    },
    {
      "cell_type": "code",
      "execution_count": 52,
      "metadata": {},
      "outputs": [
        {
          "name": "stdout",
          "output_type": "stream",
          "text": [
            "Tiempo de búsqueda en lista: 0.086111 segundos\n",
            "Tiempo de búsqueda en conjunto: 0.000063 segundos\n",
            "¡El conjunto es 1363x más rápido!\n"
          ]
        }
      ],
      "source": [
        "import time\n",
        "\n",
        "# Comparación de rendimiento: lista vs conjunto\n",
        "lista_grande = list(range(10000000))\n",
        "conjunto_grande = set(range(10000000))\n",
        "\n",
        "# Prueba de pertenencia en lista (lento)\n",
        "inicio = time.time()\n",
        "9999999 in lista_grande\n",
        "tiempo_lista = time.time() - inicio\n",
        "\n",
        "# Prueba de pertenencia en conjunto (rápido)\n",
        "inicio = time.time()\n",
        "9999999 in conjunto_grande\n",
        "tiempo_conjunto = time.time() - inicio\n",
        "\n",
        "print(f\"Tiempo de búsqueda en lista: {tiempo_lista:.6f} segundos\")\n",
        "print(f\"Tiempo de búsqueda en conjunto: {tiempo_conjunto:.6f} segundos\")\n",
        "print(f\"¡El conjunto es {tiempo_lista/tiempo_conjunto:.0f}x más rápido!\")"
      ]
    },
    {
      "cell_type": "markdown",
      "metadata": {},
      "source": [
        "---\n",
        "\n",
        "## 6. Errores comunes y Consejos\n",
        "\n",
        "### Errores comunes:"
      ]
    },
    {
      "cell_type": "code",
      "execution_count": 53,
      "metadata": {},
      "outputs": [
        {
          "name": "stdout",
          "output_type": "stream",
          "text": [
            "Tipo de {}: <class 'dict'>\n",
            "Tipo de set(): <class 'set'>\n",
            "Conjunto con tuplas: {(1, 2), (3, 4)}\n",
            "Conjunto: {1, 2, 3} (sin orden garantizado)\n"
          ]
        }
      ],
      "source": [
        "# Forma incorrecta de crear conjunto vacío\n",
        "diccionario_vacio = {}  # ¡Esto es un diccionario!\n",
        "conjunto_vacio = set()  # ¡Esto es un conjunto!\n",
        "\n",
        "print(f\"Tipo de {{}}: {type({})}\")\n",
        "print(f\"Tipo de set(): {type(set())}\")\n",
        "\n",
        "# No se pueden almacenar tipos no hashables\n",
        "# mi_conjunto = {[1, 2], [3, 4]}  # ¡Error! Las listas no son hashables\n",
        "mi_conjunto = {(1, 2), (3, 4)}  # ¡OK! Las tuplas son hashables\n",
        "print(f\"Conjunto con tuplas: {mi_conjunto}\")\n",
        "\n",
        "# Los conjuntos no están ordenados - sin indexación\n",
        "numeros = {1, 2, 3}\n",
        "# print(numeros[0])  # ¡Error! Sin indexación\n",
        "print(f\"Conjunto: {numeros} (sin orden garantizado)\")"
      ]
    },
    {
      "cell_type": "markdown",
      "metadata": {},
      "source": [
        "### Mejores Prácticas:\n",
        "- Usa conjuntos cuando necesites elementos únicos\n",
        "- Usa conjuntos para pruebas rápidas de pertenencia\n",
        "- Convierte a lista si necesitas ordenamiento/indexación\n",
        "- Usa frozenset() para conjuntos inmutables"
      ]
    },
    {
      "cell_type": "code",
      "execution_count": 54,
      "metadata": {},
      "outputs": [
        {
          "name": "stdout",
          "output_type": "stream",
          "text": [
            "Frozenset: frozenset({1, 2, 3, 4})\n",
            "Tipo: <class 'frozenset'>\n",
            "Conjunto de frozensets: {frozenset({3, 4}), frozenset({1, 2})}\n"
          ]
        }
      ],
      "source": [
        "# Ejemplo de frozenset (conjunto inmutable)\n",
        "conjunto_inmutable = frozenset([1, 2, 3, 4])\n",
        "print(f\"Frozenset: {conjunto_inmutable}\")\n",
        "print(f\"Tipo: {type(conjunto_inmutable)}\")\n",
        "\n",
        "# Los frozensets se pueden usar como elementos de otros conjuntos\n",
        "conjunto_de_conjuntos = {frozenset([1, 2]), frozenset([3, 4])}\n",
        "print(f\"Conjunto de frozensets: {conjunto_de_conjuntos}\")"
      ]
    },
    {
      "cell_type": "markdown",
      "metadata": {},
      "source": [
        "---\n",
        "\n",
        "## Resumen\n",
        "\n",
        "### Puntos Clave:\n",
        "1. **Los conjuntos almacenan solo elementos únicos**\n",
        "2. **Usa {} o set() para crear conjuntos**\n",
        "3. **Operaciones matemáticas**: unión (|), intersección (&), diferencia (-), diferencia simétrica (^)\n",
        "4. **Perfecto para**: eliminar duplicados, búsquedas rápidas, matemáticas de conjuntos\n",
        "5. **Recuerda**: los elementos deben ser hashables (inmutables)\n",
        "\n",
        "### Próximos Pasos:\n",
        "- Practica con conjuntos de datos reales\n",
        "- Explora frozensets para colecciones inmutables\n",
        "- Combina conjuntos con otras estructuras de datos\n",
        "- Usa conjuntos en proyectos de análisis de datos\n"
      ]
    }
  ],
  "metadata": {
    "kernelspec": {
      "display_name": ".venv",
      "language": "python",
      "name": "python3"
    },
    "language_info": {
      "codemirror_mode": {
        "name": "ipython",
        "version": 3
      },
      "file_extension": ".py",
      "mimetype": "text/x-python",
      "name": "python",
      "nbconvert_exporter": "python",
      "pygments_lexer": "ipython3",
      "version": "3.11.2"
    }
  },
  "nbformat": 4,
  "nbformat_minor": 4
}
